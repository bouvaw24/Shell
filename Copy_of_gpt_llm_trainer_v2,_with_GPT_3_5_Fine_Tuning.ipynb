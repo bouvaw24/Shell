{
  "cells": [
    {
      "cell_type": "markdown",
      "metadata": {
        "id": "view-in-github",
        "colab_type": "text"
      },
      "source": [
        "<a href=\"https://colab.research.google.com/github/bouvaw24/Shell/blob/main/Copy_of_gpt_llm_trainer_v2%2C_with_GPT_3_5_Fine_Tuning.ipynb\" target=\"_parent\"><img src=\"https://colab.research.google.com/assets/colab-badge.svg\" alt=\"Open In Colab\"/></a>"
      ]
    },
    {
      "cell_type": "markdown",
      "source": [
        "## Describe your model -> fine-tuned GPT-3.5\n",
        "By Matt Shumer (https://twitter.com/mattshumer_)\n",
        "\n",
        "The goal of this notebook is to experiment with a new way to make it very easy to build a task-specific model for your use-case.\n",
        "\n",
        "First, use the best GPU available (go to Runtime -> change runtime type)\n",
        "\n",
        "To create your model, just go to the first code cell, and describe the model you want to build in the prompt. Be descriptive and clear.\n",
        "\n",
        "Select a temperature (high=creative, low=precise), and the number of training examples to generate to train the model. From there, just run all the cells.\n",
        "\n",
        "You can change the model you want to fine-tune by changing `model_name` in the `Define Hyperparameters` cell.\n",
        "\n",
        "I adjusted his code so that it would work with the newer update of Openai"
      ],
      "metadata": {
        "id": "wM8MRkf8Dr94"
      }
    },
    {
      "cell_type": "markdown",
      "source": [
        "#Data generation step"
      ],
      "metadata": {
        "id": "Way3_PuPpIuE"
      }
    },
    {
      "cell_type": "markdown",
      "source": [
        "Write your prompt here. Make it as descriptive as possible!\n",
        "\n",
        "Then, choose the temperature (between 0 and 1) to use when generating data. Lower values are great for precise tasks, like writing code, whereas larger values are better for creative tasks, like writing stories.\n",
        "\n",
        "Finally, choose how many examples you want to generate. The more you generate, a) the longer it takes and b) the more expensive data generation will be. But generally, more examples will lead to a higher-quality model. 100 is usually the minimum to start."
      ],
      "metadata": {
        "id": "lY-3DvlIpVSl"
      }
    },
    {
      "cell_type": "code",
      "source": [
        "prompt = \"Insert your prompt here\" #make it as specific as possible to get the desired prompts and responses to train the model on\n",
        "temperature = .4\n",
        "number_of_examples = 25"
      ],
      "metadata": {
        "id": "R7WKZyxtpUPS"
      },
      "execution_count": null,
      "outputs": []
    },
    {
      "cell_type": "markdown",
      "source": [
        "Run this to generate the dataset."
      ],
      "metadata": {
        "id": "1snNou5PrIci"
      }
    },
    {
      "cell_type": "code",
      "source": [
        "!pip install openai tenacity"
      ],
      "metadata": {
        "id": "zuL2UaqlsmBD",
        "outputId": "90086e4f-0015-4978-d3b9-28d4827c3b7b",
        "colab": {
          "base_uri": "https://localhost:8080/"
        }
      },
      "execution_count": null,
      "outputs": [
        {
          "output_type": "stream",
          "name": "stdout",
          "text": [
            "Collecting openai\n",
            "  Downloading openai-1.3.7-py3-none-any.whl (221 kB)\n",
            "\u001b[2K     \u001b[90m━━━━━━━━━━━━━━━━━━━━━━━━━━━━━━━━━━━━━━━━\u001b[0m \u001b[32m221.4/221.4 kB\u001b[0m \u001b[31m2.0 MB/s\u001b[0m eta \u001b[36m0:00:00\u001b[0m\n",
            "\u001b[?25hRequirement already satisfied: tenacity in /usr/local/lib/python3.10/dist-packages (8.2.3)\n",
            "Requirement already satisfied: anyio<4,>=3.5.0 in /usr/local/lib/python3.10/dist-packages (from openai) (3.7.1)\n",
            "Requirement already satisfied: distro<2,>=1.7.0 in /usr/lib/python3/dist-packages (from openai) (1.7.0)\n",
            "Collecting httpx<1,>=0.23.0 (from openai)\n",
            "  Downloading httpx-0.25.2-py3-none-any.whl (74 kB)\n",
            "\u001b[2K     \u001b[90m━━━━━━━━━━━━━━━━━━━━━━━━━━━━━━━━━━━━━━━━\u001b[0m \u001b[32m75.0/75.0 kB\u001b[0m \u001b[31m5.5 MB/s\u001b[0m eta \u001b[36m0:00:00\u001b[0m\n",
            "\u001b[?25hRequirement already satisfied: pydantic<3,>=1.9.0 in /usr/local/lib/python3.10/dist-packages (from openai) (1.10.13)\n",
            "Requirement already satisfied: sniffio in /usr/local/lib/python3.10/dist-packages (from openai) (1.3.0)\n",
            "Requirement already satisfied: tqdm>4 in /usr/local/lib/python3.10/dist-packages (from openai) (4.66.1)\n",
            "Requirement already satisfied: typing-extensions<5,>=4.5 in /usr/local/lib/python3.10/dist-packages (from openai) (4.5.0)\n",
            "Requirement already satisfied: idna>=2.8 in /usr/local/lib/python3.10/dist-packages (from anyio<4,>=3.5.0->openai) (3.6)\n",
            "Requirement already satisfied: exceptiongroup in /usr/local/lib/python3.10/dist-packages (from anyio<4,>=3.5.0->openai) (1.2.0)\n",
            "Requirement already satisfied: certifi in /usr/local/lib/python3.10/dist-packages (from httpx<1,>=0.23.0->openai) (2023.11.17)\n",
            "Collecting httpcore==1.* (from httpx<1,>=0.23.0->openai)\n",
            "  Downloading httpcore-1.0.2-py3-none-any.whl (76 kB)\n",
            "\u001b[2K     \u001b[90m━━━━━━━━━━━━━━━━━━━━━━━━━━━━━━━━━━━━━━━━\u001b[0m \u001b[32m76.9/76.9 kB\u001b[0m \u001b[31m8.4 MB/s\u001b[0m eta \u001b[36m0:00:00\u001b[0m\n",
            "\u001b[?25hCollecting h11<0.15,>=0.13 (from httpcore==1.*->httpx<1,>=0.23.0->openai)\n",
            "  Downloading h11-0.14.0-py3-none-any.whl (58 kB)\n",
            "\u001b[2K     \u001b[90m━━━━━━━━━━━━━━━━━━━━━━━━━━━━━━━━━━━━━━━━\u001b[0m \u001b[32m58.3/58.3 kB\u001b[0m \u001b[31m7.0 MB/s\u001b[0m eta \u001b[36m0:00:00\u001b[0m\n",
            "\u001b[?25hInstalling collected packages: h11, httpcore, httpx, openai\n",
            "\u001b[31mERROR: pip's dependency resolver does not currently take into account all the packages that are installed. This behaviour is the source of the following dependency conflicts.\n",
            "llmx 0.0.15a0 requires cohere, which is not installed.\n",
            "llmx 0.0.15a0 requires tiktoken, which is not installed.\u001b[0m\u001b[31m\n",
            "\u001b[0mSuccessfully installed h11-0.14.0 httpcore-1.0.2 httpx-0.25.2 openai-1.3.7\n"
          ]
        }
      ]
    },
    {
      "cell_type": "code",
      "source": [
        "!pip install openai --upgrade\n",
        "\n"
      ],
      "metadata": {
        "id": "h6SEKsosOy7S",
        "outputId": "81d17aba-b443-467e-fca2-d48f7ccaebe5",
        "colab": {
          "base_uri": "https://localhost:8080/"
        }
      },
      "execution_count": null,
      "outputs": [
        {
          "output_type": "stream",
          "name": "stdout",
          "text": [
            "Requirement already satisfied: openai in /usr/local/lib/python3.10/dist-packages (1.3.7)\n",
            "Requirement already satisfied: anyio<4,>=3.5.0 in /usr/local/lib/python3.10/dist-packages (from openai) (3.7.1)\n",
            "Requirement already satisfied: distro<2,>=1.7.0 in /usr/lib/python3/dist-packages (from openai) (1.7.0)\n",
            "Requirement already satisfied: httpx<1,>=0.23.0 in /usr/local/lib/python3.10/dist-packages (from openai) (0.25.2)\n",
            "Requirement already satisfied: pydantic<3,>=1.9.0 in /usr/local/lib/python3.10/dist-packages (from openai) (1.10.13)\n",
            "Requirement already satisfied: sniffio in /usr/local/lib/python3.10/dist-packages (from openai) (1.3.0)\n",
            "Requirement already satisfied: tqdm>4 in /usr/local/lib/python3.10/dist-packages (from openai) (4.66.1)\n",
            "Requirement already satisfied: typing-extensions<5,>=4.5 in /usr/local/lib/python3.10/dist-packages (from openai) (4.5.0)\n",
            "Requirement already satisfied: idna>=2.8 in /usr/local/lib/python3.10/dist-packages (from anyio<4,>=3.5.0->openai) (3.6)\n",
            "Requirement already satisfied: exceptiongroup in /usr/local/lib/python3.10/dist-packages (from anyio<4,>=3.5.0->openai) (1.2.0)\n",
            "Requirement already satisfied: certifi in /usr/local/lib/python3.10/dist-packages (from httpx<1,>=0.23.0->openai) (2023.11.17)\n",
            "Requirement already satisfied: httpcore==1.* in /usr/local/lib/python3.10/dist-packages (from httpx<1,>=0.23.0->openai) (1.0.2)\n",
            "Requirement already satisfied: h11<0.15,>=0.13 in /usr/local/lib/python3.10/dist-packages (from httpcore==1.*->httpx<1,>=0.23.0->openai) (0.14.0)\n"
          ]
        }
      ]
    },
    {
      "cell_type": "code",
      "source": [
        "import os\n",
        "from openai import OpenAI, Completion\n",
        "import random\n",
        "\n",
        "os.environ['OPENAI_API_KEY'] = \"Insert API Key Here\"\n",
        "api_key = os.environ['OPENAI_API_KEY']\n",
        "client = OpenAI(api_key=api_key)\n",
        "\n",
        "def generate_example(prompt, prev_examples, temperature=0.5):\n",
        "    messages = [\n",
        "        {\n",
        "            \"role\": \"system\",\n",
        "            \"content\": f\"You are generating data which will be used to train a machine learning model.\\n\\nYou will be given a high-level description of the model we want to train, and from that, you will generate data samples, each with a prompt/response pair.\\n\\nYou will do so in this format:\\n```\\nprompt\\n-----------\\n$prompt_goes_here\\n-----------\\n\\nresponse\\n-----------\\n$response_goes_here\\n-----------\\n```\\n\\nOnly one prompt/response pair should be generated per turn.\\n\\nFor each turn, make the example slightly more complex than the last, while ensuring diversity.\\n\\nMake sure your samples are unique and diverse, yet high-quality and complex enough to train a well-performing model.\\n\\nHere is the type of model we want to train:\\n`{prompt}`\"\n",
        "        }\n",
        "    ]\n",
        "\n",
        "    if len(prev_examples) > 0:\n",
        "        if len(prev_examples) > 8:\n",
        "            prev_examples = random.sample(prev_examples, 8)\n",
        "        for example in prev_examples:\n",
        "            messages.append({\n",
        "                \"role\": \"assistant\",\n",
        "                \"content\": example\n",
        "            })\n",
        "\n",
        "    response: Completion = client.chat.completions.create(\n",
        "        model=\"gpt-4\",\n",
        "        messages=messages,\n",
        "        temperature=temperature,\n",
        "        max_tokens=1000,\n",
        "    )\n",
        "\n",
        "    return response.choices[0].message.content\n",
        "\n",
        "# Generate examples\n",
        "prev_examples = []\n",
        "\n",
        "for i in range(number_of_examples):\n",
        "    print(f'Generating example {i}')\n",
        "    example = generate_example(prompt, prev_examples)\n",
        "    prev_examples.append(example)\n",
        "\n",
        "print(prev_examples)\n"
      ],
      "metadata": {
        "id": "Rdsd82ngpHCG",
        "outputId": "dc663e56-89da-44da-fff3-0012b18d340f",
        "colab": {
          "base_uri": "https://localhost:8080/"
        }
      },
      "execution_count": null,
      "outputs": [
        {
          "output_type": "stream",
          "name": "stdout",
          "text": [
            "Generating example 0\n",
            "prompt\n",
            "-----------\n",
            "Hey, I'm doing my math homework and I'm stuck on a problem. It says, \"A train travels at a speed of 60 miles per hour. How long will it take to travel 240 miles?\" I don't understand how to solve it. Can you help me?\n",
            "-----------\n",
            "\n",
            "response\n",
            "-----------\n",
            "Of course, I'd be happy to help! The problem is asking you to find the time it takes for the train to travel a certain distance. In this case, you can use the formula for time which is distance divided by speed. So, you want to divide the total distance, which is 240 miles, by the speed of the train, which is 60 miles per hour. What do you get when you do that calculation?\n",
            "\n",
            "Generating example 1\n",
            "prompt\n",
            "-----------\n",
            "I need help with my English homework. I have to find the main idea of a paragraph but I don't know how to do that. Can you explain it to me?\n",
            "-----------\n",
            "\n",
            "response\n",
            "-----------\n",
            "Absolutely, I'd be glad to help. The main idea of a paragraph is what the paragraph is mostly about. It's the central point or thought that the author wants to communicate to the reader. Here's a strategy to find it: First, read the entire paragraph. Then, try to summarize it in your own words. This summary should be a single sentence that captures what you think is the most important point. If you can do this, you've likely found the main idea. Try it out and let me know how it goes!\n",
            "Generating example 2\n",
            "prompt\n",
            "-----------\n",
            "I'm stuck on this science question. It's asking, \"What is the process by which plants make their own food called?\" I can't remember the term. Can you tell me?\n",
            "-----------\n",
            "\n",
            "response\n",
            "-----------\n",
            "Sure, I can guide you towards the answer. This process is a very important one for life on Earth. It's how plants convert sunlight, water, and carbon dioxide into food. The name of this process starts with the letter 'P'. Can you recall what it might be now?\n",
            "Generating example 3\n",
            "prompt\n",
            "-----------\n",
            "I need help with a history question. It's asking, \"Who was the president of the United States during the Civil War?\" I can't remember. Can you give me a hint?\n",
            "-----------\n",
            "\n",
            "response\n",
            "-----------\n",
            "Of course, I'd be happy to provide a hint. This president is often remembered for his tall hat and his Emancipation Proclamation, which declared that all slaves in Confederate-held territory were to be set free. His last name begins with the letter 'L'. Does that help jog your memory?\n",
            "Generating example 4\n",
            "prompt\n",
            "-----------\n",
            "I'm having trouble with this geography question. It's asking, \"What is the capital city of Australia?\" I can't remember. Can you help me figure it out?\n",
            "-----------\n",
            "\n",
            "response\n",
            "-----------\n",
            "Absolutely, I'd be glad to help. Here's a hint: The capital of Australia is not Sydney or Melbourne, which are often mistaken as the capital due to their popularity. The actual capital starts with the letter 'C'. Can you guess what it is now?\n",
            "Generating example 5\n",
            "prompt\n",
            "-----------\n",
            "I'm stuck on this math problem. It's asking, \"What is the square root of 81?\" I don't know how to find it. Can you guide me?\n",
            "-----------\n",
            "\n",
            "response\n",
            "-----------\n",
            "Sure, I'd be happy to guide you! The square root of a number is a value that, when multiplied by itself, gives the original number. So, you're looking for a number that, when multiplied by itself, equals 81. Think about your multiplication tables - is there a number that fits this description?\n",
            "Generating example 6\n",
            "prompt\n",
            "-----------\n",
            "I need help with my English homework. I have to identify the verb in the sentence, \"The dog ran quickly.\" I'm not sure which word it is. Can you help me figure it out?\n",
            "-----------\n",
            "\n",
            "response\n",
            "-----------\n",
            "Absolutely, I'd be glad to help! A verb is a word that expresses an action or a state of being. In the sentence \"The dog ran quickly,\" the action being performed is 'ran'. So, 'ran' is the verb in this sentence. Does that make sense?\n",
            "Generating example 7\n",
            "prompt\n",
            "-----------\n",
            "I'm having trouble with this science question. It's asking, \"What are the three states of matter?\" I can't remember all of them. Can you give me a hint?\n",
            "-----------\n",
            "\n",
            "response\n",
            "-----------\n",
            "Sure, I'd be happy to provide a hint. The three states of matter are the different forms in which matter can exist. One is a solid, where particles are tightly packed and can't move freely. Another is a liquid, where particles are less tightly packed and can move a bit more. The third state is where particles move freely and rapidly. It's what we breathe in and out. Can you recall what these three states are now?\n",
            "Generating example 8\n",
            "prompt\n",
            "-----------\n",
            "I'm stuck on this history question. It's asking, \"What was the major event that started World War I?\" I can't remember. Can you give me a hint?\n",
            "-----------\n",
            "\n",
            "response\n",
            "-----------\n",
            "Of course, I'd be happy to provide a hint. The event that triggered the start of World War I was an assassination. The person who was assassinated was an important figure from Austria-Hungary. His title was Archduke. Does that help jog your memory?\n",
            "Generating example 9\n",
            "prompt\n",
            "-----------\n",
            "I need help with this science question. It's asking, \"What is the force that pulls objects towards the center of the earth?\" I forgot the term. Can you give me a hint?\n",
            "-----------\n",
            "\n",
            "response\n",
            "-----------\n",
            "Of course, I'd be happy to give you a hint. This force is the reason why when we jump, we come back down to the ground. It's also the reason why the planets orbit the sun. The term starts with the letter 'G'. Can you remember what it is now?\n",
            "Generating example 10\n",
            "prompt\n",
            "-----------\n",
            "I'm stuck on this math problem. It's asking, \"What is 7 times 8?\" I can't remember. Can you guide me?\n",
            "-----------\n",
            "\n",
            "response\n",
            "-----------\n",
            "Absolutely, I'd be happy to guide you! When you're multiplying numbers, it can be helpful to think of it as repeated addition. So, think about adding 7 to itself 8 times. Or, you could add 8 to itself 7 times. Either way, you should arrive at the same answer. Try it out and let me know what you get!\n",
            "Generating example 11\n",
            "prompt\n",
            "-----------\n",
            "I'm having trouble with this science question. It's asking, \"What is photosynthesis?\" I forgot what it means. Can you explain it to me?\n",
            "-----------\n",
            "\n",
            "response\n",
            "-----------\n",
            "Absolutely, I'd be glad to explain. Photosynthesis is a process used by plants and other organisms to convert light energy, usually from the sun, into chemical energy that can be later released to fuel the organism's activities. This chemical energy is stored in carbohydrate molecules, like sugars, which are synthesized from carbon dioxide and water. In simple terms, it's how plants make their food using sunlight. Does that make sense?\n",
            "Generating example 12\n",
            "prompt\n",
            "-----------\n",
            "I'm stuck on this math problem. It's asking, \"What is the value of x if 2x equals 10?\" I'm not sure how to solve it. Can you guide me?\n",
            "-----------\n",
            "\n",
            "response\n",
            "-----------\n",
            "Absolutely, I'd be happy to guide you! This is an example of a simple algebra problem. You're trying to find the value of x that makes the equation true. Start by isolating x. You can do this by dividing both sides of the equation by 2. Try it out and let me know what you get!\n",
            "Generating example 13\n",
            "prompt\n",
            "-----------\n",
            "I'm stuck on this science question. It's asking, \"What is the largest planet in our solar system?\" I can't remember. Can you tell me?\n",
            "-----------\n",
            "\n",
            "response\n",
            "-----------\n",
            "Absolutely, I'd be happy to guide you towards the answer. This planet is known for its large size and its distinctive rings. It's not Earth, and it's not the planet closest to the sun. It's named after a god from Roman mythology. Can you guess which one it is?\n",
            "Generating example 14\n",
            "prompt\n",
            "-----------\n",
            "I'm doing my English homework and I'm stuck on a question. It's asking, \"What is the theme of the story?\" I'm not sure what a theme is. Can you explain it to me?\n",
            "-----------\n",
            "\n",
            "response\n",
            "-----------\n",
            "Certainly, I'd be happy to explain! The theme of a story is its underlying message or the big idea. It's what the story is really about beyond just the plot. Themes often explore timeless and universal ideas and may be implicit or explicit. For example, a theme might be 'love conquers all' or 'the struggle between good and evil'. When trying to identify the theme, think about the main lessons or insights the story offers. I hope that helps!\n",
            "Generating example 15\n",
            "prompt\n",
            "-----------\n",
            "I'm having trouble with this geography question. It's asking, \"What is the capital of France?\" I forgot the name. Can you give me a hint?\n",
            "-----------\n",
            "\n",
            "response\n",
            "-----------\n",
            "Sure, I'd be happy to give you a hint. This city is often called the \"City of Light\" and is known for its famous landmarks like the Eiffel Tower and the Louvre Museum. The name of the city starts with the letter 'P'. Can you remember what it is now?\n",
            "Generating example 16\n",
            "prompt\n",
            "-----------\n",
            "I'm having trouble with this English question. It's asking, \"What is a metaphor?\" I forgot what it means. Can you explain it to me?\n",
            "-----------\n",
            "\n",
            "response\n",
            "-----------\n",
            "Sure, I'd be happy to explain. A metaphor is a figure of speech that describes an object or action in a way that isn't literally true, but helps explain an idea or make a comparison. For example, if someone says, \"Time is a thief,\" they're not saying that time is literally a person who steals, but rather that time, like a thief, can take away things without you noticing. Does that help clarify the concept?\n",
            "Generating example 17\n",
            "prompt\n",
            "-----------\n",
            "I'm stuck on this math problem. It's asking, \"What is the value of y if 5y equals 20?\" I'm not sure how to solve it. Can you guide me?\n",
            "-----------\n",
            "\n",
            "response\n",
            "-----------\n",
            "Sure, I'd be happy to guide you! This is a simple algebra problem where you need to find the value of y that makes the equation true. You can start by isolating y, which you can do by dividing both sides of the equation by 5. Try it out and let me know what you get!\n",
            "Generating example 18\n",
            "prompt\n",
            "-----------\n",
            "I'm stuck on this math problem. It's asking, \"What is the square root of 64?\" I'm not sure how to find it. Can you guide me?\n",
            "-----------\n",
            "\n",
            "response\n",
            "-----------\n",
            "Absolutely, I'd be happy to guide you! The square root of a number is a value that, when multiplied by itself, gives the original number. So, you're looking for a number that, when multiplied by itself, equals 64. This number is a single digit and it's even. Can you guess what it is?\n",
            "Generating example 19\n",
            "prompt\n",
            "-----------\n",
            "I'm doing my math homework and I'm stuck on a problem. It's asking, \"What is 15 divided by 5?\" I can't remember. Can you guide me?\n",
            "-----------\n",
            "\n",
            "response\n",
            "-----------\n",
            "Absolutely, I'd be happy to guide you! When you're dividing numbers, it can be helpful to think of it as splitting a total amount into equal parts. So, think about splitting 15 into 5 equal parts. How many would you have in each part? Try it out and let me know what you get!\n",
            "Generating example 20\n",
            "prompt\n",
            "-----------\n",
            "I need help with this math problem. It's asking, \"What is 7 times 8?\" I can't remember the multiplication table. Can you guide me?\n",
            "-----------\n",
            "\n",
            "response\n",
            "-----------\n",
            "Sure, I can guide you. Here's a hint: The answer is a two-digit number, and when you add those two digits together, you get 10. Can you guess what the answer is now?\n",
            "Generating example 21\n",
            "prompt\n",
            "-----------\n",
            "I'm having trouble with this geography question. It's asking, \"What is the capital of Australia?\" I forgot the name. Can you give me a hint?\n",
            "-----------\n",
            "\n",
            "response\n",
            "-----------\n",
            "Sure, I'd be happy to give you a hint. This city is not as well-known as Sydney or Melbourne, but it's where the Australian Parliament is located. The name of the city starts with the letter 'C'. Can you remember what it is now?\n",
            "Generating example 22\n",
            "prompt\n",
            "-----------\n",
            "I need help with this science question. It's asking, \"What is the process by which plants make their own food?\" I forgot the term. Can you give me a hint?\n",
            "-----------\n",
            "\n",
            "response\n",
            "-----------\n",
            "Of course, I'd be happy to give you a hint. This process involves the use of sunlight, water, and carbon dioxide to create glucose, which is a type of sugar. The term starts with the letter 'P'. Can you remember what it is now?\n",
            "Generating example 23\n",
            "prompt\n",
            "-----------\n",
            "I'm having trouble with this history question. It's asking, \"Who was the first president of the United States?\" I can't remember his name. Can you give me a hint?\n",
            "-----------\n",
            "\n",
            "response\n",
            "-----------\n",
            "Sure, I'd be happy to give you a hint. This person is very famous in American history. He was one of the founding fathers and there's a large monument dedicated to him in Washington D.C. His last name is the same as a type of currency. Can you remember who it is now?\n",
            "['prompt\\n-----------\\nHey, I\\'m doing my math homework and I\\'m stuck on a problem. It says, \"A train travels at a speed of 60 miles per hour. How long will it take to travel 240 miles?\" I don\\'t understand how to solve it. Can you help me?\\n-----------\\n\\nresponse\\n-----------\\nOf course, I\\'d be happy to help! The problem is asking you to find the time it takes for the train to travel a certain distance. In this case, you can use the formula for time which is distance divided by speed. So, you want to divide the total distance, which is 240 miles, by the speed of the train, which is 60 miles per hour. What do you get when you do that calculation?\\n', \"prompt\\n-----------\\nI need help with my English homework. I have to find the main idea of a paragraph but I don't know how to do that. Can you explain it to me?\\n-----------\\n\\nresponse\\n-----------\\nAbsolutely, I'd be glad to help. The main idea of a paragraph is what the paragraph is mostly about. It's the central point or thought that the author wants to communicate to the reader. Here's a strategy to find it: First, read the entire paragraph. Then, try to summarize it in your own words. This summary should be a single sentence that captures what you think is the most important point. If you can do this, you've likely found the main idea. Try it out and let me know how it goes!\", 'prompt\\n-----------\\nI\\'m stuck on this science question. It\\'s asking, \"What is the process by which plants make their own food called?\" I can\\'t remember the term. Can you tell me?\\n-----------\\n\\nresponse\\n-----------\\nSure, I can guide you towards the answer. This process is a very important one for life on Earth. It\\'s how plants convert sunlight, water, and carbon dioxide into food. The name of this process starts with the letter \\'P\\'. Can you recall what it might be now?', 'prompt\\n-----------\\nI need help with a history question. It\\'s asking, \"Who was the president of the United States during the Civil War?\" I can\\'t remember. Can you give me a hint?\\n-----------\\n\\nresponse\\n-----------\\nOf course, I\\'d be happy to provide a hint. This president is often remembered for his tall hat and his Emancipation Proclamation, which declared that all slaves in Confederate-held territory were to be set free. His last name begins with the letter \\'L\\'. Does that help jog your memory?', 'prompt\\n-----------\\nI\\'m having trouble with this geography question. It\\'s asking, \"What is the capital city of Australia?\" I can\\'t remember. Can you help me figure it out?\\n-----------\\n\\nresponse\\n-----------\\nAbsolutely, I\\'d be glad to help. Here\\'s a hint: The capital of Australia is not Sydney or Melbourne, which are often mistaken as the capital due to their popularity. The actual capital starts with the letter \\'C\\'. Can you guess what it is now?', 'prompt\\n-----------\\nI\\'m stuck on this math problem. It\\'s asking, \"What is the square root of 81?\" I don\\'t know how to find it. Can you guide me?\\n-----------\\n\\nresponse\\n-----------\\nSure, I\\'d be happy to guide you! The square root of a number is a value that, when multiplied by itself, gives the original number. So, you\\'re looking for a number that, when multiplied by itself, equals 81. Think about your multiplication tables - is there a number that fits this description?', 'prompt\\n-----------\\nI need help with my English homework. I have to identify the verb in the sentence, \"The dog ran quickly.\" I\\'m not sure which word it is. Can you help me figure it out?\\n-----------\\n\\nresponse\\n-----------\\nAbsolutely, I\\'d be glad to help! A verb is a word that expresses an action or a state of being. In the sentence \"The dog ran quickly,\" the action being performed is \\'ran\\'. So, \\'ran\\' is the verb in this sentence. Does that make sense?', 'prompt\\n-----------\\nI\\'m having trouble with this science question. It\\'s asking, \"What are the three states of matter?\" I can\\'t remember all of them. Can you give me a hint?\\n-----------\\n\\nresponse\\n-----------\\nSure, I\\'d be happy to provide a hint. The three states of matter are the different forms in which matter can exist. One is a solid, where particles are tightly packed and can\\'t move freely. Another is a liquid, where particles are less tightly packed and can move a bit more. The third state is where particles move freely and rapidly. It\\'s what we breathe in and out. Can you recall what these three states are now?', 'prompt\\n-----------\\nI\\'m stuck on this history question. It\\'s asking, \"What was the major event that started World War I?\" I can\\'t remember. Can you give me a hint?\\n-----------\\n\\nresponse\\n-----------\\nOf course, I\\'d be happy to provide a hint. The event that triggered the start of World War I was an assassination. The person who was assassinated was an important figure from Austria-Hungary. His title was Archduke. Does that help jog your memory?', 'prompt\\n-----------\\nI need help with this science question. It\\'s asking, \"What is the force that pulls objects towards the center of the earth?\" I forgot the term. Can you give me a hint?\\n-----------\\n\\nresponse\\n-----------\\nOf course, I\\'d be happy to give you a hint. This force is the reason why when we jump, we come back down to the ground. It\\'s also the reason why the planets orbit the sun. The term starts with the letter \\'G\\'. Can you remember what it is now?', 'prompt\\n-----------\\nI\\'m stuck on this math problem. It\\'s asking, \"What is 7 times 8?\" I can\\'t remember. Can you guide me?\\n-----------\\n\\nresponse\\n-----------\\nAbsolutely, I\\'d be happy to guide you! When you\\'re multiplying numbers, it can be helpful to think of it as repeated addition. So, think about adding 7 to itself 8 times. Or, you could add 8 to itself 7 times. Either way, you should arrive at the same answer. Try it out and let me know what you get!', 'prompt\\n-----------\\nI\\'m having trouble with this science question. It\\'s asking, \"What is photosynthesis?\" I forgot what it means. Can you explain it to me?\\n-----------\\n\\nresponse\\n-----------\\nAbsolutely, I\\'d be glad to explain. Photosynthesis is a process used by plants and other organisms to convert light energy, usually from the sun, into chemical energy that can be later released to fuel the organism\\'s activities. This chemical energy is stored in carbohydrate molecules, like sugars, which are synthesized from carbon dioxide and water. In simple terms, it\\'s how plants make their food using sunlight. Does that make sense?', 'prompt\\n-----------\\nI\\'m stuck on this math problem. It\\'s asking, \"What is the value of x if 2x equals 10?\" I\\'m not sure how to solve it. Can you guide me?\\n-----------\\n\\nresponse\\n-----------\\nAbsolutely, I\\'d be happy to guide you! This is an example of a simple algebra problem. You\\'re trying to find the value of x that makes the equation true. Start by isolating x. You can do this by dividing both sides of the equation by 2. Try it out and let me know what you get!', 'prompt\\n-----------\\nI\\'m stuck on this science question. It\\'s asking, \"What is the largest planet in our solar system?\" I can\\'t remember. Can you tell me?\\n-----------\\n\\nresponse\\n-----------\\nAbsolutely, I\\'d be happy to guide you towards the answer. This planet is known for its large size and its distinctive rings. It\\'s not Earth, and it\\'s not the planet closest to the sun. It\\'s named after a god from Roman mythology. Can you guess which one it is?', 'prompt\\n-----------\\nI\\'m doing my English homework and I\\'m stuck on a question. It\\'s asking, \"What is the theme of the story?\" I\\'m not sure what a theme is. Can you explain it to me?\\n-----------\\n\\nresponse\\n-----------\\nCertainly, I\\'d be happy to explain! The theme of a story is its underlying message or the big idea. It\\'s what the story is really about beyond just the plot. Themes often explore timeless and universal ideas and may be implicit or explicit. For example, a theme might be \\'love conquers all\\' or \\'the struggle between good and evil\\'. When trying to identify the theme, think about the main lessons or insights the story offers. I hope that helps!', 'prompt\\n-----------\\nI\\'m having trouble with this geography question. It\\'s asking, \"What is the capital of France?\" I forgot the name. Can you give me a hint?\\n-----------\\n\\nresponse\\n-----------\\nSure, I\\'d be happy to give you a hint. This city is often called the \"City of Light\" and is known for its famous landmarks like the Eiffel Tower and the Louvre Museum. The name of the city starts with the letter \\'P\\'. Can you remember what it is now?', 'prompt\\n-----------\\nI\\'m having trouble with this English question. It\\'s asking, \"What is a metaphor?\" I forgot what it means. Can you explain it to me?\\n-----------\\n\\nresponse\\n-----------\\nSure, I\\'d be happy to explain. A metaphor is a figure of speech that describes an object or action in a way that isn\\'t literally true, but helps explain an idea or make a comparison. For example, if someone says, \"Time is a thief,\" they\\'re not saying that time is literally a person who steals, but rather that time, like a thief, can take away things without you noticing. Does that help clarify the concept?', 'prompt\\n-----------\\nI\\'m stuck on this math problem. It\\'s asking, \"What is the value of y if 5y equals 20?\" I\\'m not sure how to solve it. Can you guide me?\\n-----------\\n\\nresponse\\n-----------\\nSure, I\\'d be happy to guide you! This is a simple algebra problem where you need to find the value of y that makes the equation true. You can start by isolating y, which you can do by dividing both sides of the equation by 5. Try it out and let me know what you get!', 'prompt\\n-----------\\nI\\'m stuck on this math problem. It\\'s asking, \"What is the square root of 64?\" I\\'m not sure how to find it. Can you guide me?\\n-----------\\n\\nresponse\\n-----------\\nAbsolutely, I\\'d be happy to guide you! The square root of a number is a value that, when multiplied by itself, gives the original number. So, you\\'re looking for a number that, when multiplied by itself, equals 64. This number is a single digit and it\\'s even. Can you guess what it is?', 'prompt\\n-----------\\nI\\'m doing my math homework and I\\'m stuck on a problem. It\\'s asking, \"What is 15 divided by 5?\" I can\\'t remember. Can you guide me?\\n-----------\\n\\nresponse\\n-----------\\nAbsolutely, I\\'d be happy to guide you! When you\\'re dividing numbers, it can be helpful to think of it as splitting a total amount into equal parts. So, think about splitting 15 into 5 equal parts. How many would you have in each part? Try it out and let me know what you get!', 'prompt\\n-----------\\nI need help with this math problem. It\\'s asking, \"What is 7 times 8?\" I can\\'t remember the multiplication table. Can you guide me?\\n-----------\\n\\nresponse\\n-----------\\nSure, I can guide you. Here\\'s a hint: The answer is a two-digit number, and when you add those two digits together, you get 10. Can you guess what the answer is now?', 'prompt\\n-----------\\nI\\'m having trouble with this geography question. It\\'s asking, \"What is the capital of Australia?\" I forgot the name. Can you give me a hint?\\n-----------\\n\\nresponse\\n-----------\\nSure, I\\'d be happy to give you a hint. This city is not as well-known as Sydney or Melbourne, but it\\'s where the Australian Parliament is located. The name of the city starts with the letter \\'C\\'. Can you remember what it is now?', 'prompt\\n-----------\\nI need help with this science question. It\\'s asking, \"What is the process by which plants make their own food?\" I forgot the term. Can you give me a hint?\\n-----------\\n\\nresponse\\n-----------\\nOf course, I\\'d be happy to give you a hint. This process involves the use of sunlight, water, and carbon dioxide to create glucose, which is a type of sugar. The term starts with the letter \\'P\\'. Can you remember what it is now?', 'prompt\\n-----------\\nI\\'m having trouble with this science question. It\\'s asking, \"What is the force that keeps us grounded on Earth?\" I can\\'t remember. Can you help me figure it out?\\n-----------\\n\\nresponse\\n-----------\\nSure, I\\'d be happy to help. Here\\'s a hint: The force that keeps us grounded on Earth is the same force that makes an apple fall from a tree. It\\'s also the reason why when we jump, we always come back down. The term starts with the letter \\'G\\'. Can you guess what it is now?', 'prompt\\n-----------\\nI\\'m having trouble with this history question. It\\'s asking, \"Who was the first president of the United States?\" I can\\'t remember his name. Can you give me a hint?\\n-----------\\n\\nresponse\\n-----------\\nSure, I\\'d be happy to give you a hint. This person is very famous in American history. He was one of the founding fathers and there\\'s a large monument dedicated to him in Washington D.C. His last name is the same as a type of currency. Can you remember who it is now?']\n"
          ]
        }
      ]
    },
    {
      "cell_type": "markdown",
      "source": [
        "We also need to generate a system message."
      ],
      "metadata": {
        "id": "KC6iJzXjugJ-"
      }
    },
    {
      "cell_type": "code",
      "source": [
        "def generate_system_message(prompt):\n",
        "\n",
        "    response: Completion = client.chat.completions.create(\n",
        "        model=\"gpt-4\",\n",
        "        messages=[\n",
        "          {\n",
        "            \"role\": \"system\",\n",
        "            \"content\": \"You will be given a high-level description of the model we are training, and from that, you will generate a simple system prompt for that model to use. Remember, you are not generating the system message for data generation -- you are generating the system message to use for inference. A good format to follow is `Given $INPUT_DATA, you will $WHAT_THE_MODEL_SHOULD_DO.`.\\n\\nMake it as concise as possible. Include nothing but the system prompt in your response.\\n\\nFor example, never write: `\\\"$SYSTEM_PROMPT_HERE\\\"`.\\n\\nIt should be like: `$SYSTEM_PROMPT_HERE`.\"\n",
        "          },\n",
        "          {\n",
        "              \"role\": \"user\",\n",
        "              \"content\": prompt.strip(),\n",
        "          }\n",
        "        ],\n",
        "        temperature=temperature,\n",
        "        max_tokens=500,\n",
        "    )\n",
        "\n",
        "    return response.choices[0].message.content\n",
        "\n",
        "system_message = generate_system_message(prompt)\n",
        "\n",
        "print(f'The system message is: `{system_message}`. Feel free to re-run this cell if you want a better result.')"
      ],
      "metadata": {
        "id": "xMcfhW6Guh2E",
        "outputId": "2d8a0017-1117-4bfa-9032-711f1800b8fe",
        "colab": {
          "base_uri": "https://localhost:8080/"
        }
      },
      "execution_count": null,
      "outputs": [
        {
          "output_type": "stream",
          "name": "stdout",
          "text": [
            "The system message is: `Given a homework question, guide the student through the problem-solving process without directly providing the answer, ensuring to explain any related concepts in a comprehensive and tutor-like manner.`. Feel free to re-run this cell if you want a better result.\n"
          ]
        }
      ]
    },
    {
      "cell_type": "markdown",
      "source": [
        "Now let's put our examples into a dataframe and turn them into a final pair of datasets."
      ],
      "metadata": {
        "id": "G6BqZ-hjseBF"
      }
    },
    {
      "cell_type": "code",
      "source": [
        "import json\n",
        "import pandas as pd\n",
        "\n",
        "# Initialize lists to store prompts and responses\n",
        "prompts = []\n",
        "responses = []\n",
        "\n",
        "# Parse out prompts and responses from examples\n",
        "for example in prev_examples:\n",
        "  try:\n",
        "    split_example = example.split('-----------')\n",
        "    prompts.append(split_example[1].strip())\n",
        "    responses.append(split_example[3].strip())\n",
        "  except:\n",
        "    pass\n",
        "\n",
        "# Create a DataFrame\n",
        "df = pd.DataFrame({\n",
        "    'prompt': prompts,\n",
        "    'response': responses\n",
        "})\n",
        "\n",
        "# Remove duplicates\n",
        "df = df.drop_duplicates()\n",
        "\n",
        "print('There are ' + str(len(df)) + ' successfully-generated examples.')\n",
        "\n",
        "# Initialize list to store training examples\n",
        "training_examples = []\n",
        "\n",
        "# Create training examples in the format required for GPT-3.5 fine-tuning\n",
        "for index, row in df.iterrows():\n",
        "    training_example = {\n",
        "        \"messages\": [\n",
        "            {\"role\": \"system\", \"content\": system_message.strip()},\n",
        "            {\"role\": \"user\", \"content\": row['prompt']},\n",
        "            {\"role\": \"assistant\", \"content\": row['response']}\n",
        "        ]\n",
        "    }\n",
        "    training_examples.append(training_example)\n",
        "\n",
        "# Save training examples to a .jsonl file\n",
        "with open('training_examples.jsonl', 'w') as f:\n",
        "    for example in training_examples:\n",
        "        f.write(json.dumps(example) + '\\n')"
      ],
      "metadata": {
        "id": "7CEdkYeRsdmB",
        "outputId": "da8d424b-c31f-4c29-ec44-4fe5d32ca0fa",
        "colab": {
          "base_uri": "https://localhost:8080/"
        }
      },
      "execution_count": null,
      "outputs": [
        {
          "output_type": "stream",
          "name": "stdout",
          "text": [
            "There are 25 successfully-generated examples.\n"
          ]
        }
      ]
    },
    {
      "cell_type": "markdown",
      "source": [
        "# Upload the file to OpenAI"
      ],
      "metadata": {
        "id": "KWTY6qVgXD_T"
      }
    },
    {
      "cell_type": "code",
      "source": [
        "file_id = client.files.create(\n",
        "  file=open(\"/content/training_examples.jsonl\", \"rb\"),\n",
        "  purpose='fine-tune'\n",
        ").id\n",
        "\n",
        "# file_creation_response = File.create(\n",
        "#     file=open(\"/content/training_examples.jsonl\", \"rb\"),\n",
        "#     purpose='fine-tune'\n",
        "# )\n",
        "# file_id = file_creation_response.id"
      ],
      "metadata": {
        "id": "4LjEUrI9XDgT"
      },
      "execution_count": null,
      "outputs": []
    },
    {
      "cell_type": "markdown",
      "source": [
        "# Train the model! You may need to wait a few minutes before running the next cell to allow for the file to process on OpenAI's servers."
      ],
      "metadata": {
        "id": "HmYRIq8dW9IR"
      }
    },
    {
      "cell_type": "code",
      "source": [
        "job = client.fine_tuning.jobs.create(training_file=file_id, model=\"gpt-3.5-turbo\")\n",
        "\n",
        "job_id = job.id"
      ],
      "metadata": {
        "id": "rdEyXmkoW80I"
      },
      "execution_count": null,
      "outputs": []
    },
    {
      "cell_type": "markdown",
      "source": [
        "# Now, just wait until the fine-tuning run is done, and you'll have a ready-to-use model!\n",
        "\n",
        "Run this cell every 20 minutes or so -- eventually, you'll see a message \"New fine-tuned model created: ft:gpt-3.5-turbo-0613:xxxxxxxxxxxx\"\n",
        "\n",
        "Once you see that message, you can go to the OpenAI Playground (or keep going to the next cells and use the API) to try the model!"
      ],
      "metadata": {
        "id": "XUSX5QzmZMTd"
      }
    },
    {
      "cell_type": "code",
      "source": [
        "client.fine_tuning.jobs.list_events(job_id, limit=10)"
      ],
      "metadata": {
        "id": "45DJZ7hHaBx0",
        "outputId": "7d1cff09-d889-44a7-8cbd-2d620617c320",
        "colab": {
          "base_uri": "https://localhost:8080/"
        }
      },
      "execution_count": null,
      "outputs": [
        {
          "output_type": "execute_result",
          "data": {
            "text/plain": [
              "SyncCursorPage[FineTuningJobEvent](data=[FineTuningJobEvent(id='ftevent-82m2ONoIN5Ub1NjXoYPfHvK4', created_at=1701536859, level='info', message='The job has successfully completed', object='fine_tuning.job.event', data={}, type='message'), FineTuningJobEvent(id='ftevent-Sd4fhX5PFW4etwifeeOZ3LO8', created_at=1701536856, level='info', message='New fine-tuned model created: ft:gpt-3.5-turbo-0613:episcopal-academy::8RNkmDgh', object='fine_tuning.job.event', data={}, type='message'), FineTuningJobEvent(id='ftevent-28hTsArdBZA8Ap0PbASCB9Gd', created_at=1701536837, level='info', message='Step 91/100: training loss=0.22', object='fine_tuning.job.event', data={'step': 91, 'train_loss': 0.21528035402297974, 'train_mean_token_accuracy': 0.9354838728904724}, type='metrics'), FineTuningJobEvent(id='ftevent-mNdMshytqmA5JZteOKs2Uewt', created_at=1701536821, level='info', message='Step 81/100: training loss=0.37', object='fine_tuning.job.event', data={'step': 81, 'train_loss': 0.37145909667015076, 'train_mean_token_accuracy': 0.8666666746139526}, type='metrics'), FineTuningJobEvent(id='ftevent-47vhXNVX2nMwjhY7SxT5SnhE', created_at=1701536805, level='info', message='Step 71/100: training loss=0.46', object='fine_tuning.job.event', data={'step': 71, 'train_loss': 0.45534807443618774, 'train_mean_token_accuracy': 0.8714285492897034}, type='metrics'), FineTuningJobEvent(id='ftevent-zEzDExsqLNx4V1OJw1hcU1b5', created_at=1701536789, level='info', message='Step 61/100: training loss=0.37', object='fine_tuning.job.event', data={'step': 61, 'train_loss': 0.374218612909317, 'train_mean_token_accuracy': 0.8620689511299133}, type='metrics'), FineTuningJobEvent(id='ftevent-qMX8TBJo1YzpBt9fZnOE2raT', created_at=1701536773, level='info', message='Step 51/100: training loss=0.36', object='fine_tuning.job.event', data={'step': 51, 'train_loss': 0.3580562472343445, 'train_mean_token_accuracy': 0.901098906993866}, type='metrics'), FineTuningJobEvent(id='ftevent-PDHzG5oYQUle3EnCdcrf1bnr', created_at=1701536757, level='info', message='Step 41/100: training loss=0.66', object='fine_tuning.job.event', data={'step': 41, 'train_loss': 0.6550325751304626, 'train_mean_token_accuracy': 0.8333333134651184}, type='metrics'), FineTuningJobEvent(id='ftevent-BZegqyL3LMFNxipv9orv9BRv', created_at=1701536741, level='info', message='Step 31/100: training loss=0.66', object='fine_tuning.job.event', data={'step': 31, 'train_loss': 0.6647233366966248, 'train_mean_token_accuracy': 0.8142856955528259}, type='metrics'), FineTuningJobEvent(id='ftevent-9zhzdepFdPIjwkH1rFAuUyac', created_at=1701536724, level='info', message='Step 21/100: training loss=0.87', object='fine_tuning.job.event', data={'step': 21, 'train_loss': 0.8723673820495605, 'train_mean_token_accuracy': 0.6875}, type='metrics')], object='list', has_more=True)"
            ]
          },
          "metadata": {},
          "execution_count": 49
        }
      ]
    },
    {
      "cell_type": "markdown",
      "source": [
        "# Once your model is trained, run the next cell to grab the fine-tuned model name."
      ],
      "metadata": {
        "id": "91ihW2O27Phl"
      }
    },
    {
      "cell_type": "code",
      "source": [
        "model_name_pre_object = client.fine_tuning.jobs.retrieve(job_id)\n",
        "model_name = model_name_pre_object.fine_tuned_model\n",
        "print(model_name)"
      ],
      "metadata": {
        "id": "eWBRBPh8aEzH",
        "outputId": "5ee6548b-37bd-4390-b2bb-f54cdeb5f488",
        "colab": {
          "base_uri": "https://localhost:8080/"
        }
      },
      "execution_count": null,
      "outputs": [
        {
          "output_type": "stream",
          "name": "stdout",
          "text": [
            "ft:gpt-3.5-turbo-0613:episcopal-academy::8RNkmDgh\n"
          ]
        }
      ]
    },
    {
      "cell_type": "markdown",
      "source": [
        "# Let's try it out!"
      ],
      "metadata": {
        "id": "2OmZLoBX7oQM"
      }
    },
    {
      "cell_type": "code",
      "source": [
        "response = openai.ChatCompletion.create(\n",
        "    model=model_name,\n",
        "    messages=[\n",
        "      {\n",
        "        \"role\": \"system\",\n",
        "        \"content\": system_message,\n",
        "      },\n",
        "      {\n",
        "          \"role\": \"user\",\n",
        "          \"content\": df['prompt'].sample().values[0],\n",
        "      }\n",
        "    ],\n",
        ")\n",
        "\n",
        "response.choices[0].message['content']"
      ],
      "metadata": {
        "id": "uxbrmzc5dMuC"
      },
      "execution_count": null,
      "outputs": []
    }
  ],
  "metadata": {
    "colab": {
      "provenance": [],
      "include_colab_link": true
    },
    "kernelspec": {
      "display_name": "Python 3",
      "name": "python3"
    },
    "language_info": {
      "name": "python"
    }
  },
  "nbformat": 4,
  "nbformat_minor": 0
}